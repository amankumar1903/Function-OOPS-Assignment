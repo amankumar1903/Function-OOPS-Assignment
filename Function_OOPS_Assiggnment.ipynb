{
 "cells": [
  {
   "cell_type": "markdown",
   "metadata": {},
   "source": [
    "Q1...Explain the importance of Functions"
   ]
  },
  {
   "cell_type": "markdown",
   "metadata": {},
   "source": [
    "Ans...\n",
    "Functions are fundamental building blocks in programming and have several key benefits and importance:\n",
    "\n",
    "1. Code Reusability:\n",
    "Functions allow you to write a piece of code once and reuse it multiple times throughout a program. This reduces redundancy and makes the code more concise and manageable.\n",
    "\n",
    "2. Modularity:\n",
    "Functions help break down a complex problem into smaller, more manageable parts. Each function can focus on a specific task, making it easier to understand, develop, and test.\n",
    "\n",
    "3. Improved Readability:\n",
    "By using functions, code can be organized in a way that is easier to read and follow. Each function has a clear purpose, making the overall program structure more understandable.\n",
    "\n",
    "4. Easier Debugging and Maintenance:\n",
    "Functions help isolate different parts of the code. If a bug arises, you can focus on the specific function that is causing the problem without needing to sift through the entire codebase.\n",
    "\n",
    "5. Abstraction:\n",
    "Functions allow you to abstract complex operations by encapsulating them within a simple interface. Users of the function don't need to know the inner workings but only need to understand the inputs and outputs.\n"
   ]
  },
  {
   "cell_type": "markdown",
   "metadata": {},
   "source": [
    "Q2...Write a basic function to greet students."
   ]
  },
  {
   "cell_type": "code",
   "execution_count": 27,
   "metadata": {},
   "outputs": [
    {
     "name": "stdout",
     "output_type": "stream",
     "text": [
      "Hello, Atish! Welcome to the class. We're glad to have you here!\n"
     ]
    }
   ],
   "source": [
    "# Answer.....\n",
    "def greet_student(name):\n",
    "    print(f\"Hello, {name}! Welcome to the class. We're glad to have you here!\")\n",
    "\n",
    "# Example \n",
    "greet_student(\"Atish\")\n"
   ]
  },
  {
   "cell_type": "markdown",
   "metadata": {},
   "source": [
    "Q3...What is the difference between print and return statements"
   ]
  },
  {
   "cell_type": "markdown",
   "metadata": {},
   "source": [
    "The print and return statements in Python serve different purposes and are used in distinct contexts. Here’s a breakdown of the differences between them:\n",
    "\n",
    "1. Purpose:\n",
    "\n",
    "print:------\n",
    "The print statement is used to display information to the console (or standard output). It is typically used for debugging, showing results, or communicating with the user.\n",
    "\n",
    "return:-----\n",
    "The return statement is used within a function to exit the function and send a value back to the caller. This allows you to pass the result of a function's computation to other parts of your code.\n",
    "\n",
    "2. Effect:\n",
    "\n",
    "print:------\n",
    "Outputs text to the console. It does not affect the flow of the program or the value that a function produce.\n",
    "\n",
    "return:------\n",
    "Ends the execution of the function and passes a value to the code that called the function. The value returned can be used later in the program.\n",
    "\n",
    "3. Usage Context:\n",
    "\n",
    "print:----------\n",
    "Used when you want to provide output for the user or for debugging purposes.\n",
    "It is generally not used to get values from a function, but rather to show what is happening during the execution.\n",
    "\n",
    "return:------\n",
    "Used within functions to provide a result or output that can be used elsewhere in the code.\n",
    "Essential for functions that are meant to calculate a value, perform a task, and give back the result.\n",
    "\n",
    "4. Impact on Program Flow:\n",
    "\n",
    "print:--------\n",
    "Does not stop the execution of a function; the function continues running after print.\n",
    "\n",
    "return:------\n",
    "Immediately stops the execution of the function once it’s called, and no further code in the function will run."
   ]
  },
  {
   "cell_type": "markdown",
   "metadata": {},
   "source": [
    "Q4...What are *args and **kwargs?"
   ]
  },
  {
   "cell_type": "markdown",
   "metadata": {},
   "source": [
    "Answer....\n",
    "In Python, *args and **kwargs are used to pass a variable number of arguments to a function. They are useful when you don’t know in advance how many arguments will be passed to your function or when you want to allow for flexible argument lists.\n",
    "\n",
    "1. *args: Variable-Length Positional Arguments\n",
    "*args allows you to pass a variable number of positional arguments to a function. Inside the function, *args is treated as a tuple containing all the arguments that were passed.\n",
    "\n",
    "2. **kwargs: Variable-Length Keyword Arguments\n",
    "**kwargs allows you to pass a variable number of keyword arguments (i.e., arguments in the form of key-value pairs) to a function. Inside the function, **kwargs is treated as a dictionary containing all the keyword arguments.\n",
    "\n",
    "Combining *args and **kwargs:\n",
    "You can use both *args and **kwargs in the same function to accept any number of positional and keyword arguments"
   ]
  },
  {
   "cell_type": "markdown",
   "metadata": {},
   "source": [
    "Q5...Explain the iterator function"
   ]
  },
  {
   "cell_type": "markdown",
   "metadata": {},
   "source": [
    "Answer.....\n",
    "An iterator in Python is an object that allows you to traverse through all the elements in a collection (like a list, tuple, or dictionary) one at a time. Iterators are used to perform looping tasks without the need for explicit indexing.\n",
    "\n",
    "Key Concepts:\n",
    "Iterable:---\n",
    "\n",
    "An iterable is any Python object that you can loop over (e.g., lists, tuples, strings, etc.). These objects implement the __iter__() method, which returns an iterator.\n",
    "Example of iterables: lists, tuples, strings, dictionaries, sets, etc.\n",
    "\n",
    "Iterator:---\n",
    "\n",
    "An iterator is an object that represents a stream of data. It implements two methods:\n",
    "__iter__(): Returns the iterator object itself.\n",
    "__next__(): Returns the next element in the sequence. If there are no more elements, it raises a StopIteration exception.\n",
    "The __next__() method advances the iterator by one element each time it is called.\n",
    "\n",
    "Benefits of Iterators:---\n",
    "\n",
    "Memory Efficiency: Iterators generate items one at a time and don't require storing the entire sequence in memory, which is beneficial for working with large data sets.\n",
    "\n",
    "Lazy Evaluation: Iterators are lazy, meaning they only generate items as needed, which can make code more efficient.\n",
    "\n",
    "Common Uses of Iterators:----\n",
    "File Handling: Iterating over lines in a file, where each line is read only as needed.\n",
    "\n",
    "Data Processing Pipelines: Where data is processed in a streaming manner rather than loading the entire dataset into memory at once."
   ]
  },
  {
   "cell_type": "markdown",
   "metadata": {},
   "source": [
    "Q6...Write a code that generates the squares of numbers from 1 to n using a generator."
   ]
  },
  {
   "cell_type": "code",
   "execution_count": 28,
   "metadata": {},
   "outputs": [
    {
     "name": "stdout",
     "output_type": "stream",
     "text": [
      "1\n",
      "4\n",
      "9\n",
      "16\n",
      "25\n"
     ]
    }
   ],
   "source": [
    "# Answer....\n",
    "def square_generator(n):\n",
    "    for i in range(1, n + 1):\n",
    "        yield i * i\n",
    "\n",
    "# Example \n",
    "n = 5\n",
    "for square in square_generator(n):\n",
    "    print(square)\n"
   ]
  },
  {
   "cell_type": "markdown",
   "metadata": {},
   "source": [
    "Q7... Write a code that generates palindromic numbers up to n using a generator"
   ]
  },
  {
   "cell_type": "code",
   "execution_count": 29,
   "metadata": {},
   "outputs": [
    {
     "name": "stdout",
     "output_type": "stream",
     "text": [
      "1\n",
      "2\n",
      "3\n",
      "4\n",
      "5\n",
      "6\n",
      "7\n",
      "8\n",
      "9\n",
      "11\n",
      "22\n",
      "33\n",
      "44\n",
      "55\n",
      "66\n",
      "77\n",
      "88\n",
      "99\n",
      "101\n",
      "111\n",
      "121\n",
      "131\n",
      "141\n",
      "151\n",
      "161\n",
      "171\n",
      "181\n",
      "191\n"
     ]
    }
   ],
   "source": [
    "# Answer...\n",
    "def palindromic_numbers(n):\n",
    "    for num in range(1, n + 1):\n",
    "        if str(num) == str(num)[::-1]:  \n",
    "            yield num\n",
    "\n",
    "# Example \n",
    "n = 200\n",
    "for palin in palindromic_numbers(n):\n",
    "    print(palin)\n"
   ]
  },
  {
   "cell_type": "markdown",
   "metadata": {},
   "source": [
    "Q8...Write a code that generates even numbers from 2 to n using a generator."
   ]
  },
  {
   "cell_type": "code",
   "execution_count": 30,
   "metadata": {},
   "outputs": [
    {
     "name": "stdout",
     "output_type": "stream",
     "text": [
      "2\n",
      "4\n",
      "6\n",
      "8\n",
      "10\n"
     ]
    }
   ],
   "source": [
    "#Answer... \n",
    "def even_numbers(n):\n",
    "    for num in range(2, n + 1, 2):\n",
    "        yield num\n",
    "\n",
    "# Example \n",
    "n = 10\n",
    "for even in even_numbers(n):\n",
    "    print(even)\n"
   ]
  },
  {
   "cell_type": "markdown",
   "metadata": {},
   "source": [
    "Q9... Write a code that generates powers of two up to n using a generator."
   ]
  },
  {
   "cell_type": "code",
   "execution_count": 31,
   "metadata": {},
   "outputs": [
    {
     "name": "stdout",
     "output_type": "stream",
     "text": [
      "1\n",
      "2\n",
      "4\n",
      "8\n",
      "16\n"
     ]
    }
   ],
   "source": [
    "def powers_of_two(n):\n",
    "    power = 1\n",
    "    while power <= n:\n",
    "        yield power\n",
    "        power *= 2\n",
    "\n",
    "# Example usage:\n",
    "n = 16\n",
    "for power in powers_of_two(n):\n",
    "    print(power)\n"
   ]
  },
  {
   "cell_type": "markdown",
   "metadata": {},
   "source": [
    "Q10...Write a code that generates prime numbers up to n using a generator"
   ]
  },
  {
   "cell_type": "code",
   "execution_count": 32,
   "metadata": {},
   "outputs": [
    {
     "name": "stdout",
     "output_type": "stream",
     "text": [
      "2\n",
      "3\n",
      "5\n",
      "7\n",
      "11\n",
      "13\n",
      "17\n",
      "19\n"
     ]
    }
   ],
   "source": [
    "def prime_numbers(n):\n",
    "    def is_prime(num):\n",
    "        if num < 2:\n",
    "            return False\n",
    "        for i in range(2, int(num ** 0.5) + 1):\n",
    "            if num % i == 0:\n",
    "                return False\n",
    "        return True\n",
    "\n",
    "    for num in range(2, n + 1):\n",
    "        if is_prime(num):\n",
    "            yield num\n",
    "\n",
    "# Example \n",
    "n = 20\n",
    "for prime in prime_numbers(n):\n",
    "    print(prime)\n"
   ]
  },
  {
   "cell_type": "markdown",
   "metadata": {},
   "source": [
    "Q11...Write a code that uses a lambda function to calculate the sum of two numbers."
   ]
  },
  {
   "cell_type": "code",
   "execution_count": 33,
   "metadata": {},
   "outputs": [
    {
     "name": "stdout",
     "output_type": "stream",
     "text": [
      "14\n"
     ]
    }
   ],
   "source": [
    "sum_two_numbers = lambda x, y: x + y\n",
    "\n",
    "print(sum_two_numbers(3,11))  \n"
   ]
  },
  {
   "cell_type": "markdown",
   "metadata": {},
   "source": [
    "Q12... Write a code that uses a lambda function to calculate the square of a given number."
   ]
  },
  {
   "cell_type": "code",
   "execution_count": 34,
   "metadata": {},
   "outputs": [
    {
     "name": "stdout",
     "output_type": "stream",
     "text": [
      "16\n"
     ]
    }
   ],
   "source": [
    "square = lambda x: x * x\n",
    "\n",
    "print(square(4))  # Output: 16\n"
   ]
  },
  {
   "cell_type": "markdown",
   "metadata": {},
   "source": [
    "Q13...Write a code that uses a lambda function to check whether a given number is even or odd."
   ]
  },
  {
   "cell_type": "code",
   "execution_count": 35,
   "metadata": {},
   "outputs": [
    {
     "name": "stdout",
     "output_type": "stream",
     "text": [
      "True\n",
      "False\n"
     ]
    }
   ],
   "source": [
    "is_even = lambda x: x % 2 == 0\n",
    "\n",
    "print(is_even(4))  \n",
    "print(is_even(5))  \n"
   ]
  },
  {
   "cell_type": "markdown",
   "metadata": {},
   "source": [
    "Q15...Write a code that uses a lambda function to concatenate two strings."
   ]
  },
  {
   "cell_type": "code",
   "execution_count": 36,
   "metadata": {},
   "outputs": [
    {
     "name": "stdout",
     "output_type": "stream",
     "text": [
      "Hello, World!\n"
     ]
    }
   ],
   "source": [
    "concat_strings = lambda s1, s2: s1 + s2\n",
    "\n",
    "print(concat_strings(\"Hello, \", \"World!\"))  \n"
   ]
  },
  {
   "cell_type": "markdown",
   "metadata": {},
   "source": [
    "Q16... Write a code that uses a lambda function to find the maximum of three given numbers."
   ]
  },
  {
   "cell_type": "code",
   "execution_count": 37,
   "metadata": {},
   "outputs": [
    {
     "name": "stdout",
     "output_type": "stream",
     "text": [
      "5\n"
     ]
    }
   ],
   "source": [
    "max_of_three = lambda x, y, z: max(x, y, z)\n",
    "\n",
    "print(max_of_three(3, 5, 1))  \n"
   ]
  },
  {
   "cell_type": "markdown",
   "metadata": {},
   "source": [
    "Q17...Write a code that generates the squares of even numbers from a given list."
   ]
  },
  {
   "cell_type": "code",
   "execution_count": 38,
   "metadata": {},
   "outputs": [
    {
     "name": "stdout",
     "output_type": "stream",
     "text": [
      "4\n",
      "16\n"
     ]
    }
   ],
   "source": [
    "# Answer----\n",
    "def even_squares(lst):\n",
    "   \n",
    "    for num in lst:\n",
    "        if num % 2 == 0:\n",
    "            yield num * num\n",
    "\n",
    "\n",
    "numbers = [1, 2, 3, 4, 5]\n",
    "for square in even_squares(numbers):\n",
    "    print(square)\n"
   ]
  },
  {
   "cell_type": "markdown",
   "metadata": {},
   "source": [
    "Q18...Write a code that calculates the product of positive numbers from a given list."
   ]
  },
  {
   "cell_type": "code",
   "execution_count": 39,
   "metadata": {},
   "outputs": [
    {
     "name": "stdout",
     "output_type": "stream",
     "text": [
      "15\n"
     ]
    }
   ],
   "source": [
    "# Answer\n",
    "from functools import reduce\n",
    "\n",
    "def product_of_positives(lst):\n",
    "\n",
    "    positives = [num for num in lst if num > 0]\n",
    "    return reduce(lambda x, y: x * y, positives, 1)\n",
    "\n",
    "numbers = [1, -2, 3, -4, 5]\n",
    "print(product_of_positives(numbers))  \n"
   ]
  },
  {
   "cell_type": "markdown",
   "metadata": {},
   "source": [
    "Q19...Write a code that doubles the values of odd numbers from a given list."
   ]
  },
  {
   "cell_type": "code",
   "execution_count": 40,
   "metadata": {},
   "outputs": [
    {
     "name": "stdout",
     "output_type": "stream",
     "text": [
      "[2, 6, 10]\n"
     ]
    }
   ],
   "source": [
    "def double_odds(lst):\n",
    "  \n",
    "    return [num * 2 for num in lst if num % 2 != 0]\n",
    "\n",
    "numbers = [1, 2, 3, 4, 5]\n",
    "print(double_odds(numbers))  "
   ]
  },
  {
   "cell_type": "markdown",
   "metadata": {},
   "source": [
    "Q20...Write a code that calculates the sum of cubes of numbers from a given list."
   ]
  },
  {
   "cell_type": "code",
   "execution_count": 41,
   "metadata": {},
   "outputs": [
    {
     "name": "stdout",
     "output_type": "stream",
     "text": [
      "36\n"
     ]
    }
   ],
   "source": [
    "def sum_of_cubes(lst):\n",
    "    return sum(num ** 3 for num in lst)\n",
    "\n",
    "numbers = [1, 2, 3]\n",
    "print(sum_of_cubes(numbers))  \n"
   ]
  },
  {
   "cell_type": "markdown",
   "metadata": {},
   "source": [
    "Q21... Write a code that filters out prime numbers from a given list."
   ]
  },
  {
   "cell_type": "code",
   "execution_count": 42,
   "metadata": {},
   "outputs": [
    {
     "name": "stdout",
     "output_type": "stream",
     "text": [
      "[2, 3, 5, 7]\n"
     ]
    }
   ],
   "source": [
    "# Answer\n",
    "def filter_primes(lst):\n",
    "    def is_prime(num):\n",
    "        if num < 2:\n",
    "            return False\n",
    "        for i in range(2, int(num ** 0.5) + 1):\n",
    "            if num % i == 0:\n",
    "                return False\n",
    "        return True\n",
    "\n",
    "    return [num for num in lst if is_prime(num)]\n",
    "\n",
    "\n",
    "numbers = [2, 3, 4, 5, 6, 7, 8, 9, 10]\n",
    "print(filter_primes(numbers))  \n"
   ]
  },
  {
   "cell_type": "markdown",
   "metadata": {},
   "source": [
    "Q22...Write a code that uses a lambda function to calculate the sum of two numbers."
   ]
  },
  {
   "cell_type": "code",
   "execution_count": 43,
   "metadata": {},
   "outputs": [
    {
     "name": "stdout",
     "output_type": "stream",
     "text": [
      "8\n"
     ]
    }
   ],
   "source": [
    "# Answer\n",
    "sum_two_numbers = lambda x, y: x + y\n",
    "\n",
    "\n",
    "result = sum_two_numbers(5, 3)\n",
    "print(result)  \n"
   ]
  },
  {
   "cell_type": "markdown",
   "metadata": {},
   "source": [
    "Q23...Write a code that uses a lambda function to calculate the square of a given number"
   ]
  },
  {
   "cell_type": "code",
   "execution_count": 46,
   "metadata": {},
   "outputs": [
    {
     "name": "stdout",
     "output_type": "stream",
     "text": [
      "49\n"
     ]
    }
   ],
   "source": [
    "# Answer...\n",
    "\n",
    "square = lambda x: x ** 2\n",
    "\n",
    "number = 7\n",
    "result = square(number)\n",
    "print(result)  \n"
   ]
  },
  {
   "cell_type": "markdown",
   "metadata": {},
   "source": [
    "Q24...Write a code that uses a lambda function to check whether a given number is even or odd."
   ]
  },
  {
   "cell_type": "code",
   "execution_count": null,
   "metadata": {},
   "outputs": [
    {
     "name": "stdout",
     "output_type": "stream",
     "text": [
      "123 is odd.\n"
     ]
    }
   ],
   "source": [
    "# Answer...\n",
    "is_even = lambda x: x % 2 == 0\n",
    "\n",
    "number = 123\n",
    "if is_even(number):\n",
    "    print(f\"{number} is even.\")\n",
    "else:\n",
    "    print(f\"{number} is odd.\")\n"
   ]
  },
  {
   "cell_type": "markdown",
   "metadata": {},
   "source": [
    "Q25... Write a code that uses a lambda function to concatenate two string."
   ]
  },
  {
   "cell_type": "code",
   "execution_count": 47,
   "metadata": {},
   "outputs": [
    {
     "name": "stdout",
     "output_type": "stream",
     "text": [
      "Hello, World!\n"
     ]
    }
   ],
   "source": [
    "# Answer...\n",
    "concat_strings = lambda s1, s2: s1 + s2\n",
    "\n",
    "string1 = \"Hello, \"\n",
    "string2 = \"World!\"\n",
    "result = concat_strings(string1, string2)\n",
    "print(result)  \n"
   ]
  },
  {
   "cell_type": "markdown",
   "metadata": {},
   "source": [
    "Q26...Write a code that uses a lambda function to find the maximum of three given numbers"
   ]
  },
  {
   "cell_type": "code",
   "execution_count": 48,
   "metadata": {},
   "outputs": [
    {
     "name": "stdout",
     "output_type": "stream",
     "text": [
      "12\n"
     ]
    }
   ],
   "source": [
    "# Answer...\n",
    "max_of_three = lambda a, b, c: max(a, b, c)\n",
    "\n",
    "num1 = 5\n",
    "num2 = 12\n",
    "num3 = 7\n",
    "result = max_of_three(num1, num2, num3)\n",
    "print(result)  \n"
   ]
  },
  {
   "cell_type": "markdown",
   "metadata": {},
   "source": [
    "Q27... What is encapsulation in OOP?"
   ]
  },
  {
   "cell_type": "markdown",
   "metadata": {},
   "source": [
    "Answer... \n",
    "\n",
    "Encapsulation is one of the fundamental principles of Object-Oriented Programming (OOP). It is the concept of bundling data (attributes) and methods (functions) that operate on that data into a single unit or class. Encapsulation restricts direct access to some of an object's components, which can protect the integrity of the data and prevent unintended interference. This is often achieved by making some attributes private, meaning they can only be accessed or modified through public methods (getters and setters)."
   ]
  },
  {
   "cell_type": "markdown",
   "metadata": {},
   "source": [
    "Q28...Explain the use of access modifiers in Python classes"
   ]
  },
  {
   "cell_type": "markdown",
   "metadata": {},
   "source": [
    "Answer...\n",
    "\n",
    "In Python, access modifiers determine the accessibility of class members. Python has three types of access modifiers:\n",
    "\n",
    "Public:-------\n",
    "\n",
    "Members declared as public can be accessed from any part of the program. By default, all members of a class are public.\n",
    "Example: self.name\n",
    "\n",
    "Protected:-------\n",
    "\n",
    "Members declared as protected can only be accessed within the class and its subclasses. In Python, protected members are indicated by a single underscore prefix.\n",
    "Example: self._name\n",
    "\n",
    "Private:--------\n",
    "\n",
    "Members declared as private can only be accessed within the class that defines them. In Python, private members are indicated by a double underscore prefix.\n",
    "Example: self.__name"
   ]
  },
  {
   "cell_type": "markdown",
   "metadata": {},
   "source": [
    "Q29...What is inheritance in OOP?"
   ]
  },
  {
   "cell_type": "markdown",
   "metadata": {},
   "source": [
    "Answer....\n",
    "\n",
    "Inheritance is a mechanism in OOP that allows a new class (child or subclass) to inherit properties and behavior (attributes and methods) from an existing class (parent or superclass). It promotes code reusability and establishes a relationship between classes, enabling the child class to use, modify, or extend the functionality of the parent class."
   ]
  },
  {
   "cell_type": "markdown",
   "metadata": {},
   "source": [
    "Q30...Define polymorphism in OOP?"
   ]
  },
  {
   "cell_type": "markdown",
   "metadata": {},
   "source": [
    "Answer...\n",
    "\n",
    "Polymorphism is the ability in OOP to present the same interface for different underlying data types. In simple terms, polymorphism allows methods to do different things based on the object they are acting upon, even though they share the same name. It can be achieved through method overriding and method overloading."
   ]
  },
  {
   "cell_type": "markdown",
   "metadata": {},
   "source": [
    "Q31...Explain method overriding in Python."
   ]
  },
  {
   "cell_type": "markdown",
   "metadata": {},
   "source": [
    "Answer...\n",
    "\n",
    "Method overriding occurs when a subclass provides a specific implementation of a method that is already defined in its superclass. The method in the subclass should have the same name, signature, and return type as in the superclass. This allows the subclass to provide a specialized behavior while still adhering to the parent class's interface."
   ]
  },
  {
   "cell_type": "markdown",
   "metadata": {},
   "source": [
    "Q32... Define a parent class Animal with a method make_sound that prints \"Generic animal sound\". Create a child class Dog inheriting from Animal with a method make_sound that prints \"Woof!\""
   ]
  },
  {
   "cell_type": "code",
   "execution_count": 49,
   "metadata": {},
   "outputs": [
    {
     "name": "stdout",
     "output_type": "stream",
     "text": [
      "Generic animal sound\n",
      "Woof!\n"
     ]
    }
   ],
   "source": [
    "# Answer...\n",
    "class Animal:\n",
    "    def make_sound(self):\n",
    "        print(\"Generic animal sound\")\n",
    "\n",
    "class Dog(Animal):\n",
    "    def make_sound(self):\n",
    "        print(\"Woof!\")\n",
    "\n",
    "# Example usage:\n",
    "animal = Animal()\n",
    "animal.make_sound()  \n",
    "\n",
    "dog = Dog()\n",
    "dog.make_sound()  "
   ]
  },
  {
   "cell_type": "markdown",
   "metadata": {},
   "source": [
    "Q33...Define a method move in the Animal class that prints \"Animal moves\". Override the move method in the Dog class to print \"Dog runs.\""
   ]
  },
  {
   "cell_type": "code",
   "execution_count": 50,
   "metadata": {},
   "outputs": [
    {
     "name": "stdout",
     "output_type": "stream",
     "text": [
      "Animal moves\n",
      "Dog runs\n"
     ]
    }
   ],
   "source": [
    "# Answer...\n",
    "class Animal:\n",
    "    def move(self):\n",
    "        print(\"Animal moves\")\n",
    "\n",
    "class Dog(Animal):\n",
    "    def move(self):\n",
    "        print(\"Dog runs\")\n",
    "\n",
    "animal = Animal()\n",
    "animal.move()  \n",
    "\n",
    "dog = Dog()\n",
    "dog.move()  \n"
   ]
  },
  {
   "cell_type": "markdown",
   "metadata": {},
   "source": [
    "Q34... Create a class Mammal with a method reproduce that prints \"Giving birth to live young.\" Create a class DogMammal inheriting from both Dog and Mammal."
   ]
  },
  {
   "cell_type": "code",
   "execution_count": 55,
   "metadata": {},
   "outputs": [
    {
     "name": "stdout",
     "output_type": "stream",
     "text": [
      "Woof!\n",
      "Giving birth to live young.\n",
      "This is a dog named Buddy.\n"
     ]
    }
   ],
   "source": [
    "# Answer...\n",
    "class Mammal:\n",
    "    def reproduce(self):\n",
    "        print(\"Giving birth to live young.\")\n",
    "\n",
    "class Dog:\n",
    "    def bark(self):\n",
    "        print(\"Woof!\")\n",
    "\n",
    "class DogMammal(Dog, Mammal):\n",
    "    def __init__(self, name):\n",
    "        self.name = name\n",
    "    \n",
    "    def display_info(self):\n",
    "        print(f\"This is a dog named {self.name}.\")\n",
    "\n",
    "dog_mammal = DogMammal(\"Buddy\")\n",
    "\n",
    "\n",
    "dog_mammal.bark()         \n",
    "dog_mammal.reproduce()    \n",
    "dog_mammal.display_info() \n"
   ]
  },
  {
   "cell_type": "markdown",
   "metadata": {},
   "source": [
    "Q35...Create a class GermanShepherd inheriting from Dog and override the make_sound method to print \"Bark!\""
   ]
  },
  {
   "cell_type": "code",
   "execution_count": 56,
   "metadata": {},
   "outputs": [
    {
     "name": "stdout",
     "output_type": "stream",
     "text": [
      "Bark!\n"
     ]
    }
   ],
   "source": [
    "# Answer....\n",
    "\n",
    "class GermanShepherd(Dog):\n",
    "    def make_sound(self):\n",
    "        print(\"Bark!\")\n",
    "\n",
    "\n",
    "german_shepherd = GermanShepherd()\n",
    "german_shepherd.make_sound()  \n"
   ]
  },
  {
   "cell_type": "markdown",
   "metadata": {},
   "source": [
    "Q36... Define constructors in both the Animal and Dog classes with different initialization parameters"
   ]
  },
  {
   "cell_type": "code",
   "execution_count": 58,
   "metadata": {},
   "outputs": [
    {
     "name": "stdout",
     "output_type": "stream",
     "text": [
      "Animal: Canine\n",
      "Dog breed: Labrador\n"
     ]
    }
   ],
   "source": [
    "# Answer...\n",
    "class Animal:\n",
    "    def __init__(self, species):\n",
    "        self.species = species\n",
    "        print(f\"Animal: {self.species}\")\n",
    "\n",
    "class Dog(Animal):\n",
    "    def __init__(self, species, breed):\n",
    "        super().__init__(species)\n",
    "        self.breed = breed\n",
    "        print(f\"Dog breed: {self.breed}\")\n",
    "\n",
    "# Example usage:\n",
    "dog = Dog(\"Canine\", \"Labrador\")\n"
   ]
  },
  {
   "cell_type": "markdown",
   "metadata": {},
   "source": [
    "Q37...What is abstraction in Python? How is it implemented."
   ]
  },
  {
   "cell_type": "markdown",
   "metadata": {},
   "source": [
    "Answer...\n",
    "\n",
    "Abstraction in Python refers to the concept of hiding the complex implementation details and showing only the essential features of an object. It is implemented using abstract classes and interfaces, where abstract classes contain one or more abstract methods (methods that are declared but contain no implementation). The abc module in Python provides the infrastructure for defining abstract base classes.\n",
    "\n"
   ]
  },
  {
   "cell_type": "markdown",
   "metadata": {},
   "source": [
    "Q38...Explain the importance of abstraction in object-oriented programming."
   ]
  },
  {
   "cell_type": "markdown",
   "metadata": {},
   "source": [
    "Answer...\n",
    "\n",
    "Abstraction is important in OOP because it allows developers to focus on the interface of objects rather than the implementation details. It promotes a clear separation of concerns, improves code maintainability, and allows for the development of more flexible and scalable systems by defining what an object does rather than how it does it.\n"
   ]
  },
  {
   "cell_type": "markdown",
   "metadata": {},
   "source": [
    "Q39...How are abstract methods different from regular methods in Python."
   ]
  },
  {
   "cell_type": "markdown",
   "metadata": {},
   "source": [
    "Answer...\n",
    "\n",
    "Abstract methods are methods declared in an abstract class that have no implementation in the base class. They must be overridden in any non-abstract subclass, forcing those subclasses to provide specific behavior. Regular methods, on the other hand, have an implementation and can be used directly by instances of the class or its subclasses."
   ]
  },
  {
   "cell_type": "markdown",
   "metadata": {},
   "source": [
    "Q40...How can you achieve abstraction using interfaces in Python."
   ]
  },
  {
   "cell_type": "code",
   "execution_count": 61,
   "metadata": {},
   "outputs": [
    {
     "name": "stdout",
     "output_type": "stream",
     "text": [
      "Woof!\n"
     ]
    }
   ],
   "source": [
    " # Answer....\n",
    "\n",
    "# In Python, you can achieve abstraction using interfaces by \n",
    "# defining abstract base classes (ABCs) with abstract methods.\n",
    "# Subclasses that implement these interfaces must provide concrete \n",
    "# implementations for all abstract methods. This ensures that the \n",
    "# subclass adheres to the interface contract\n",
    "\n",
    "from abc import ABC, abstractmethod\n",
    "\n",
    "class Animal(ABC):\n",
    "    @abstractmethod\n",
    "    def make_sound(self):\n",
    "        pass\n",
    "\n",
    "class Dog(Animal):\n",
    "    def make_sound(self):\n",
    "        print(\"Woof!\")\n",
    "\n",
    "# Example usage:\n",
    "dog = Dog()\n",
    "dog.make_sound()  \n",
    "\n"
   ]
  },
  {
   "cell_type": "markdown",
   "metadata": {},
   "source": [
    "Q41...Can you provide an example of how abstraction can be utilized to create a common interface for a group of related classes in Python."
   ]
  },
  {
   "cell_type": "code",
   "execution_count": 62,
   "metadata": {},
   "outputs": [
    {
     "name": "stdout",
     "output_type": "stream",
     "text": [
      "6\n",
      "78.5\n"
     ]
    }
   ],
   "source": [
    "# Answer...\n",
    "from abc import ABC, abstractmethod\n",
    "\n",
    "class Shape(ABC):\n",
    "    @abstractmethod\n",
    "    def area(self):\n",
    "        pass\n",
    "\n",
    "class Rectangle(Shape):\n",
    "    def __init__(self, width, height):\n",
    "        self.width = width\n",
    "        self.height = height\n",
    "    \n",
    "    def area(self):\n",
    "        return self.width * self.height\n",
    "\n",
    "class Circle(Shape):\n",
    "    def __init__(self, radius):\n",
    "        self.radius = radius\n",
    "    \n",
    "    def area(self):\n",
    "        return 3.14 * (self.radius ** 2)\n",
    "\n",
    "\n",
    "shapes = [Rectangle(2, 3), Circle(5)]\n",
    "for shape in shapes:\n",
    "    print(shape.area())\n",
    "\n"
   ]
  },
  {
   "cell_type": "markdown",
   "metadata": {},
   "source": [
    "Q42...How does Python achieve polymorphism through method overriding."
   ]
  },
  {
   "cell_type": "markdown",
   "metadata": {},
   "source": [
    "Answer...\n",
    "\n",
    "Python achieves polymorphism through method overriding by allowing subclasses to provide specific implementations of methods defined in their superclasses. This allows objects of different types to be treated as objects of a common supertype, enabling them to be used interchangeably based on their behavior rather than their exact type."
   ]
  },
  {
   "cell_type": "markdown",
   "metadata": {},
   "source": [
    "Q43... Define a base class with a method and a subclass that overrides the method."
   ]
  },
  {
   "cell_type": "code",
   "execution_count": 63,
   "metadata": {},
   "outputs": [
    {
     "name": "stdout",
     "output_type": "stream",
     "text": [
      "Vehicle moves\n",
      "Car drives\n"
     ]
    }
   ],
   "source": [
    "# Answer\n",
    "\n",
    "class Vehicle:\n",
    "    def move(self):\n",
    "        print(\"Vehicle moves\")\n",
    "\n",
    "class Car(Vehicle):\n",
    "    def move(self):\n",
    "        print(\"Car drives\")\n",
    "\n",
    "# Example usage:\n",
    "vehicle = Vehicle()\n",
    "vehicle.move()  \n",
    "\n",
    "car = Car()\n",
    "car.move()  \n"
   ]
  },
  {
   "cell_type": "markdown",
   "metadata": {},
   "source": [
    "Q44... Define a base class and multiple subclasses with overridden methods."
   ]
  },
  {
   "cell_type": "code",
   "execution_count": 66,
   "metadata": {},
   "outputs": [
    {
     "name": "stdout",
     "output_type": "stream",
     "text": [
      "Washing machine is running\n",
      "Refrigerator is cooling\n"
     ]
    }
   ],
   "source": [
    "# Answer\n",
    "class Appliance:\n",
    "    def turn_on(self):\n",
    "        print(\"Appliance is on\")\n",
    "\n",
    "class WashingMachine(Appliance):\n",
    "    def turn_on(self):\n",
    "        print(\"Washing machine is running\")\n",
    "\n",
    "class Refrigerator(Appliance):\n",
    "    def turn_on(self):\n",
    "        print(\"Refrigerator is cooling\")\n",
    "\n",
    "# Example usage:\n",
    "appliances = [WashingMachine(), Refrigerator()]\n",
    "for appliance in appliances:\n",
    "    appliance.turn_on()\n"
   ]
  },
  {
   "cell_type": "markdown",
   "metadata": {},
   "source": [
    "Q45...How does polymorphism improve code readability and reusability.\n"
   ]
  },
  {
   "cell_type": "markdown",
   "metadata": {},
   "source": [
    "Answer...\n",
    "\n",
    "Polymorphism improves code readability by allowing different types of objects to be treated uniformly based on their shared behaviors, rather than their exact types. It improves reusability by enabling the same code to work with different types of objects, reducing the need for duplicate code and making the system more flexible and easier to maintain."
   ]
  },
  {
   "cell_type": "markdown",
   "metadata": {},
   "source": [
    "Q46...Describe how Python supports polymorphism with duck typing.\n"
   ]
  },
  {
   "cell_type": "code",
   "execution_count": 67,
   "metadata": {},
   "outputs": [
    {
     "name": "stdout",
     "output_type": "stream",
     "text": [
      "Bird flies\n",
      "Airplane flies\n"
     ]
    }
   ],
   "source": [
    "#Answer...\n",
    "\n",
    "# Python supports polymorphism with duck typing, which means that an\n",
    "# object's suitability is determined by the presence of certain \n",
    "# methods and properties rather than its actual type. In other words,\n",
    "# \"If it looks like a duck, swims like a duck, and quacks like a duck,\n",
    "# then it probably is a duck.\" This allows for more flexible and \n",
    "# dynamic code, where objects of different types can be used \n",
    "# interchangeably if they implement the required behavior.\n",
    "\n",
    "class Bird:\n",
    "    def fly(self):\n",
    "        print(\"Bird flies\")\n",
    "\n",
    "class Airplane:\n",
    "    def fly(self):\n",
    "        print(\"Airplane flies\")\n",
    "\n",
    "# Example usage:\n",
    "for obj in [Bird(), Airplane()]:\n",
    "    obj.fly()\n"
   ]
  },
  {
   "cell_type": "markdown",
   "metadata": {},
   "source": [
    "Q47...How do you achieve encapsulation in Python."
   ]
  },
  {
   "cell_type": "markdown",
   "metadata": {},
   "source": [
    "Answer...\n",
    "\n",
    "Encapsulation in Python is achieved by defining class attributes as private or protected using a single or double underscore prefix. This restricts access to these attributes from outside the class and forces access through getter and setter methods, promoting data integrity and hiding the internal implementation."
   ]
  },
  {
   "cell_type": "markdown",
   "metadata": {},
   "source": [
    "Q48...Can encapsulation be bypassed in Python? If so, how"
   ]
  },
  {
   "cell_type": "code",
   "execution_count": 68,
   "metadata": {},
   "outputs": [
    {
     "name": "stdout",
     "output_type": "stream",
     "text": [
      "I am private\n"
     ]
    }
   ],
   "source": [
    "# Answer...\n",
    "\n",
    "# Yes, encapsulation can be bypassed in Python due to its flexible \n",
    "# and open nature. Even private attributes (with a double underscore \n",
    "# prefix) can be accessed using name mangling. However, doing so is \n",
    "# generally discouraged as it breaks the principle of encapsulation.\n",
    "\n",
    "class Example:\n",
    "    def __init__(self):\n",
    "        self.__private = \"I am private\"\n",
    "\n",
    "example = Example()\n",
    "print(example._Example__private)  \n"
   ]
  },
  {
   "cell_type": "markdown",
   "metadata": {},
   "source": [
    "Q49...Implement a class BankAccount with a private balance attribute. Include methods to deposit, withdraw, and check the balance."
   ]
  },
  {
   "cell_type": "code",
   "execution_count": 74,
   "metadata": {},
   "outputs": [
    {
     "name": "stdout",
     "output_type": "stream",
     "text": [
      "Deposited: 50\n",
      "Withdrawn: 30\n",
      "120\n"
     ]
    }
   ],
   "source": [
    "# Answer\n",
    "\n",
    "class BankAccount:\n",
    "    def __init__(self, initial_balance=0):\n",
    "        self.__balance = initial_balance\n",
    "\n",
    "    def deposit(self, amount):\n",
    "        if amount > 0:\n",
    "            self.__balance += amount\n",
    "            print(f\"Deposited: {amount}\")\n",
    "\n",
    "    def withdraw(self, amount):\n",
    "        if 0 < amount <= self.__balance:\n",
    "            self.__balance -= amount\n",
    "            print(f\"Withdrawn: {amount}\")\n",
    "        else:\n",
    "            print(\"Insufficient funds\")\n",
    "\n",
    "    def check_balance(self):\n",
    "        return self.__balance\n",
    "\n",
    "# Example usage:\n",
    "account = BankAccount(100)\n",
    "account.deposit(50)\n",
    "account.withdraw(30)\n",
    "print(account.check_balance())  \n"
   ]
  },
  {
   "cell_type": "markdown",
   "metadata": {},
   "source": [
    "Q50...Develop a Person class with private attributes name and email, and methods to set and get the email."
   ]
  },
  {
   "cell_type": "code",
   "execution_count": 76,
   "metadata": {},
   "outputs": [
    {
     "name": "stdout",
     "output_type": "stream",
     "text": [
      "john.doe@example.com\n",
      "john.new@example.com\n"
     ]
    }
   ],
   "source": [
    "# Answer\n",
    "\n",
    "class Person:\n",
    "    def __init__(self, name, email):\n",
    "        self.__name = name\n",
    "        self.__email = email\n",
    "\n",
    "    def set_email(self, email):\n",
    "        self.__email = email\n",
    "\n",
    "    def get_email(self):\n",
    "        return self.__email\n",
    "\n",
    "# Example usage:\n",
    "person = Person(\"John Doe\", \"john.doe@example.com\")\n",
    "print(person.get_email())  \n",
    "person.set_email(\"john.new@example.com\")\n",
    "print(person.get_email())  \n"
   ]
  },
  {
   "cell_type": "markdown",
   "metadata": {},
   "source": [
    "Q51... Why is encapsulation considered a pillar of object-oriented programming (OOP)?"
   ]
  },
  {
   "cell_type": "markdown",
   "metadata": {},
   "source": [
    "Answer...\n",
    "\n",
    "Encapsulation is considered a pillar of OOP because it enables modularity, data protection, and separation of concerns. By encapsulating the internal state of an object and exposing only what is necessary through a controlled interface, encapsulation helps to maintain the integrity of the object's data, reduces dependencies between different parts of a program, and makes it easier to understand, maintain, and extend the code."
   ]
  },
  {
   "cell_type": "markdown",
   "metadata": {},
   "source": [
    "Q52... Create a decorator in Python that adds functionality to a simple function by printing a message before and after the function execution"
   ]
  },
  {
   "cell_type": "code",
   "execution_count": 78,
   "metadata": {},
   "outputs": [
    {
     "name": "stdout",
     "output_type": "stream",
     "text": [
      "Before function execution\n",
      "Hello!\n",
      "After function execution\n"
     ]
    }
   ],
   "source": [
    "# Answer...\n",
    "\n",
    "def simple_decorator(func):\n",
    "    def wrapper():\n",
    "        print(\"Before function execution\")\n",
    "        func()\n",
    "        print(\"After function execution\")\n",
    "    return wrapper\n",
    "\n",
    "@simple_decorator\n",
    "def say_hello():\n",
    "    print(\"Hello!\")\n",
    "\n",
    "say_hello()\n"
   ]
  },
  {
   "cell_type": "markdown",
   "metadata": {},
   "source": [
    "Q53...Modify the decorator to accept arguments and print the function name along with the message."
   ]
  },
  {
   "cell_type": "code",
   "execution_count": 80,
   "metadata": {},
   "outputs": [
    {
     "name": "stdout",
     "output_type": "stream",
     "text": [
      "Executing greet with arguments: ('Alice', 30), {}\n",
      "Hello Alice, you are 30 years old!\n",
      "Finished greet\n"
     ]
    }
   ],
   "source": [
    "# Answer...\n",
    "\n",
    "def decorator_with_args(func):\n",
    "    def wrapper(*args, **kwargs):\n",
    "        print(f\"Executing {func.__name__} with arguments: {args}, {kwargs}\")\n",
    "        result = func(*args, **kwargs)\n",
    "        print(f\"Finished {func.__name__}\")\n",
    "        return result\n",
    "    return wrapper\n",
    "\n",
    "@decorator_with_args\n",
    "def greet(name, age):\n",
    "    print(f\"Hello {name}, you are {age} years old!\")\n",
    "\n",
    "greet(\"Alice\", 30)\n"
   ]
  },
  {
   "cell_type": "markdown",
   "metadata": {},
   "source": [
    "Q54...Create two decorators, and apply them to a single function. Ensure that they execute in the order they are applied."
   ]
  },
  {
   "cell_type": "code",
   "execution_count": 81,
   "metadata": {},
   "outputs": [
    {
     "name": "stdout",
     "output_type": "stream",
     "text": [
      "Decorator One\n",
      "Decorator Two\n",
      "Hello!\n"
     ]
    }
   ],
   "source": [
    "# Answer\n",
    "\n",
    "def decorator_one(func):\n",
    "    def wrapper():\n",
    "        print(\"Decorator One\")\n",
    "        func()\n",
    "    return wrapper\n",
    "\n",
    "def decorator_two(func):\n",
    "    def wrapper():\n",
    "        print(\"Decorator Two\")\n",
    "        func()\n",
    "    return wrapper\n",
    "\n",
    "@decorator_one\n",
    "@decorator_two\n",
    "def say_hello():\n",
    "    print(\"Hello!\")\n",
    "\n",
    "\n",
    "say_hello()\n"
   ]
  },
  {
   "cell_type": "markdown",
   "metadata": {},
   "source": [
    "55. Modify the decorator to accept and pass function arguments to the wrapped function"
   ]
  },
  {
   "cell_type": "code",
   "execution_count": 82,
   "metadata": {},
   "outputs": [
    {
     "name": "stdout",
     "output_type": "stream",
     "text": [
      "Decorator received arguments: (5, 10), {}\n",
      "15\n"
     ]
    }
   ],
   "source": [
    "# Answer\n",
    "\n",
    "def decorator_with_args(func):\n",
    "    def wrapper(*args, **kwargs):\n",
    "        print(f\"Decorator received arguments: {args}, {kwargs}\")\n",
    "        return func(*args, **kwargs)\n",
    "    return wrapper\n",
    "\n",
    "@decorator_with_args\n",
    "def add(a, b):\n",
    "    return a + b\n",
    "\n",
    "print(add(5, 10))\n"
   ]
  },
  {
   "cell_type": "markdown",
   "metadata": {},
   "source": [
    "56. Create a decorator that preserves the metadata of the original function.  "
   ]
  },
  {
   "cell_type": "code",
   "execution_count": 85,
   "metadata": {},
   "outputs": [
    {
     "name": "stdout",
     "output_type": "stream",
     "text": [
      "sample_function\n",
      "None\n"
     ]
    }
   ],
   "source": [
    "# Answer\n",
    "\n",
    "import functools\n",
    "\n",
    "def preserve_metadata(func):\n",
    "    @functools.wraps(func)\n",
    "    def wrapper(*args, **kwargs):\n",
    "        return func(*args, **kwargs)\n",
    "    return wrapper\n",
    "\n",
    "@preserve_metadata\n",
    "def sample_function():\n",
    "    print(\"Function executed\")\n",
    "\n",
    "\n",
    "print(sample_function.__name__) \n",
    "print(sample_function.__doc__)  \n"
   ]
  },
  {
   "cell_type": "markdown",
   "metadata": {},
   "source": [
    "57. Create a Python class Calculator with a static method add that takes in two numbers and returns their sum."
   ]
  },
  {
   "cell_type": "code",
   "execution_count": 86,
   "metadata": {},
   "outputs": [
    {
     "name": "stdout",
     "output_type": "stream",
     "text": [
      "15\n"
     ]
    }
   ],
   "source": [
    "# Answer\n",
    "\n",
    "class Calculator:\n",
    "    @staticmethod\n",
    "    def add(a, b):\n",
    "        return a + b\n",
    "\n",
    "print(Calculator.add(5, 10))  "
   ]
  },
  {
   "cell_type": "markdown",
   "metadata": {},
   "source": [
    "58. Create a Python class Employee with a class method get_employee_count that returns the total number of employees created."
   ]
  },
  {
   "cell_type": "code",
   "execution_count": 87,
   "metadata": {},
   "outputs": [
    {
     "name": "stdout",
     "output_type": "stream",
     "text": [
      "2\n"
     ]
    }
   ],
   "source": [
    "# Answer\n",
    "\n",
    "class Employee:\n",
    "    employee_count = 0\n",
    "\n",
    "    def __init__(self, name):\n",
    "        self.name = name\n",
    "        Employee.employee_count += 1\n",
    "\n",
    "    @classmethod\n",
    "    def get_employee_count(cls):\n",
    "        return cls.employee_count\n",
    "\n",
    "e1 = Employee(\"Alice\")\n",
    "e2 = Employee(\"Bob\")\n",
    "print(Employee.get_employee_count())  \n"
   ]
  },
  {
   "cell_type": "markdown",
   "metadata": {},
   "source": [
    "59. Create a Python class StringFormatter with a static method reverse_string that takes a string as input and returns its reverse."
   ]
  },
  {
   "cell_type": "code",
   "execution_count": 88,
   "metadata": {},
   "outputs": [
    {
     "name": "stdout",
     "output_type": "stream",
     "text": [
      "olleh\n"
     ]
    }
   ],
   "source": [
    "# Answer\n",
    "\n",
    "class StringFormatter:\n",
    "    @staticmethod\n",
    "    def reverse_string(s):\n",
    "        return s[::-1]\n",
    "\n",
    "print(StringFormatter.reverse_string(\"hello\"))  "
   ]
  },
  {
   "cell_type": "markdown",
   "metadata": {},
   "source": [
    "60. Create a Python class Circle with a class method calculate_area that calculates the area of a circle given its radius."
   ]
  },
  {
   "cell_type": "code",
   "execution_count": 90,
   "metadata": {},
   "outputs": [
    {
     "name": "stdout",
     "output_type": "stream",
     "text": [
      "78.5\n"
     ]
    }
   ],
   "source": [
    "# Answer\n",
    "\n",
    "class Circle:\n",
    "    @classmethod\n",
    "    def calculate_area(cls, radius):\n",
    "        return 3.14 * radius * radius\n",
    "\n",
    "print(Circle.calculate_area(5))  \n"
   ]
  },
  {
   "cell_type": "markdown",
   "metadata": {},
   "source": [
    "61.  Create a Python class TemperatureConverter with a static method celsius_to_fahrenheit that converts Celsius to Fahrenheit."
   ]
  },
  {
   "cell_type": "code",
   "execution_count": 91,
   "metadata": {},
   "outputs": [
    {
     "name": "stdout",
     "output_type": "stream",
     "text": [
      "32.0\n"
     ]
    }
   ],
   "source": [
    "# Answer\n",
    "\n",
    "class TemperatureConverter:\n",
    "    @staticmethod\n",
    "    def celsius_to_fahrenheit(celsius):\n",
    "        return celsius * 9/5 + 32\n",
    "\n",
    "print(TemperatureConverter.celsius_to_fahrenheit(0))  \n"
   ]
  },
  {
   "cell_type": "markdown",
   "metadata": {},
   "source": [
    "62. What is the purpose of the __str__() method in Python classes? Provide an example."
   ]
  },
  {
   "cell_type": "code",
   "execution_count": 92,
   "metadata": {},
   "outputs": [
    {
     "name": "stdout",
     "output_type": "stream",
     "text": [
      "Alice, 30 years old\n"
     ]
    }
   ],
   "source": [
    "#Answer\n",
    "# \n",
    "# The __str__() method in Python is a special method used to define \n",
    "# the string representation of an object. It is called by the str() \n",
    "# function and the print statement. When you print an object, \n",
    "# the __str__() method is invoked to get a human-readable string \n",
    "# representation of that object.\n",
    "\n",
    "class Person:\n",
    "    def __init__(self, name, age):\n",
    "        self.name = name\n",
    "        self.age = age\n",
    "\n",
    "    def __str__(self):\n",
    "        return f\"{self.name}, {self.age} years old\"\n",
    "\n",
    "p = Person(\"Alice\", 30)\n",
    "print(p)  \n"
   ]
  },
  {
   "cell_type": "markdown",
   "metadata": {},
   "source": [
    "63. How does the __len__() method work in Python? Provide an example"
   ]
  },
  {
   "cell_type": "code",
   "execution_count": 95,
   "metadata": {},
   "outputs": [
    {
     "name": "stdout",
     "output_type": "stream",
     "text": [
      "5\n"
     ]
    }
   ],
   "source": [
    "# The __len__() method in Python is a special method used to define \n",
    "# the behavior of the len() function for objects of custom classes.\n",
    "# When you call len() on an object, Python looks for the __len__() \n",
    "# method and returns its result.\n",
    "\n",
    "class MyList:\n",
    "    def __init__(self, *elements):\n",
    "        self.elements = list(elements)\n",
    "    \n",
    "    def __len__(self):\n",
    "        return len(self.elements)\n",
    "        \n",
    "\n",
    "my_list = MyList(1, 2, 3, 4, 5)\n",
    "\n",
    "print(len(my_list))  \n"
   ]
  },
  {
   "cell_type": "markdown",
   "metadata": {},
   "source": [
    "64. Explain the usage of the __add__() method in Python classes. Provide an example"
   ]
  },
  {
   "cell_type": "code",
   "execution_count": 97,
   "metadata": {},
   "outputs": [
    {
     "name": "stdout",
     "output_type": "stream",
     "text": [
      "Vector(6, 8)\n"
     ]
    }
   ],
   "source": [
    "#  In Python, the __add__() method is a special method that allows \n",
    "# you to define the behavior of the + operator for instances of a\n",
    "# class. When you implement __add__() in your class, you can specify \n",
    "# how two objects of that class should be added together using \n",
    "# the + operator.\n",
    "\n",
    "class Vector:\n",
    "    def __init__(self, x, y):\n",
    "        self.x = x\n",
    "        self.y = y\n",
    "    \n",
    "    def __add__(self, other):\n",
    "        if isinstance(other, Vector):\n",
    "            return Vector(self.x + other.x, self.y + other.y)\n",
    "        return NotImplemented\n",
    "    \n",
    "    def __repr__(self):\n",
    "        return f\"Vector({self.x}, {self.y})\"\n",
    "\n",
    "v1 = Vector(2, 3)\n",
    "v2 = Vector(4, 5)\n",
    "\n",
    "v3 = v1 + v2\n",
    "\n",
    "print(v3)  \n"
   ]
  },
  {
   "cell_type": "markdown",
   "metadata": {},
   "source": [
    "65. What is the purpose of the __getitem__() method in Python? Provide an example."
   ]
  },
  {
   "cell_type": "markdown",
   "metadata": {},
   "source": [
    "Answer...\n",
    "Purpose of __getitem__():\n",
    "---------------------------------\n",
    "Access Elements:-----  \n",
    " \n",
    " __getitem__() allows objects to behave like sequences (e.g., lists, tuples) or mappings (e.g., dictionaries), enabling you to access elements by index or key.\n",
    "\n",
    "Custom Behavior: ----\n",
    "\n",
    "You can customize how the indexing operation works, such as defining specific logic for retrieving elements based on certain conditions."
   ]
  },
  {
   "cell_type": "code",
   "execution_count": 99,
   "metadata": {},
   "outputs": [
    {
     "name": "stdout",
     "output_type": "stream",
     "text": [
      "10\n",
      "30\n"
     ]
    }
   ],
   "source": [
    "class MyList:\n",
    "    def __init__(self, data):\n",
    "        self.data = data\n",
    "    \n",
    "    def __getitem__(self, index):\n",
    "        \n",
    "        return self.data[index]\n",
    "\n",
    "\n",
    "my_list = MyList([10, 20, 30, 40])\n",
    "\n",
    "print(my_list[0])  \n",
    "print(my_list[2])  \n"
   ]
  },
  {
   "cell_type": "markdown",
   "metadata": {},
   "source": [
    "66. Explain the usage of the __iter__() and __next__() methods in Python. Provide an example using iterators."
   ]
  },
  {
   "cell_type": "markdown",
   "metadata": {},
   "source": [
    "# Answer\n",
    "The __iter__() and __next__() methods in Python are essential for making an object iterable, which means it can be used in a loop or with an iterator. These methods allow an object to return its elements one at a time, making it compatible with Python's iteration protocol\n",
    "\n",
    "__iter__() Method:----\n",
    "\n",
    "Purpose: The __iter__() method is expected to return the iterator object itself. It's called when an iteration over an object is initiated, such as in a for loop.\n",
    "\n",
    "Implementation: This method should return an object that implements the __next__() method.\n",
    "\n",
    "__next__() Method:------\n",
    "\n",
    "Purpose: The __next__() method is used to return the next item from the iterator. It raises a StopIteration exception when there are no more items to return, signaling the end of the iteration.\n",
    "\n",
    "Implementation: This method should return the next value in the sequence each time it is called."
   ]
  },
  {
   "cell_type": "code",
   "execution_count": 100,
   "metadata": {},
   "outputs": [
    {
     "name": "stdout",
     "output_type": "stream",
     "text": [
      "1\n",
      "2\n",
      "3\n",
      "4\n"
     ]
    }
   ],
   "source": [
    "class MyRange:\n",
    "    def __init__(self, start, end):\n",
    "        self.start = start\n",
    "        self.end = end\n",
    "\n",
    "    def __iter__(self):\n",
    "        self.current = self.start\n",
    "        return self\n",
    "\n",
    "    def __next__(self):\n",
    "        if self.current >= self.end:\n",
    "            raise StopIteration\n",
    "        else:\n",
    "            self.current += 1\n",
    "            return self.current - 1\n",
    "\n",
    "my_range = MyRange(1, 5)\n",
    "\n",
    "for num in my_range:\n",
    "    print(num)\n",
    "\n"
   ]
  },
  {
   "cell_type": "markdown",
   "metadata": {},
   "source": [
    "67. What is the purpose of a getter method in Python? Provide an example demonstrating the use of a getter method using property decorators."
   ]
  },
  {
   "cell_type": "markdown",
   "metadata": {},
   "source": [
    "# Answer\n",
    "\n",
    "Purpose of a Getter Method in Python:---\n",
    "\n",
    "A getter method in Python is used to retrieve or access the value of a private or protected attribute in a class. Getters are particularly useful when you need to control how an attribute's value is accessed, such as validating the value before returning it or logging access to the attribute. They encapsulate the internal representation of the attribute, allowing you to change how the attribute is stored without affecting the external interface.\n",
    "\n",
    "Getter Methods with Property Decorators:----\n",
    "\n",
    "In Python, the @property decorator is commonly used to define a getter method. It allows you to define methods that can be accessed like attributes, enabling a more natural syntax."
   ]
  },
  {
   "cell_type": "code",
   "execution_count": 101,
   "metadata": {},
   "outputs": [
    {
     "name": "stdout",
     "output_type": "stream",
     "text": [
      "25\n",
      "-10\n",
      "Temperature below -273.15 is not possible.\n"
     ]
    }
   ],
   "source": [
    "class Celsius:\n",
    "    def __init__(self, temperature=0):\n",
    "        self._temperature = temperature\n",
    "\n",
    "    @property\n",
    "    def temperature(self):\n",
    "        \n",
    "        return self._temperature\n",
    "\n",
    "    @temperature.setter\n",
    "    def temperature(self, value):\n",
    "        if value < -273.15:\n",
    "            raise ValueError(\"Temperature below -273.15 is not possible.\")\n",
    "        self._temperature = value\n",
    "\n",
    "\n",
    "c = Celsius(25)\n",
    "print(c.temperature)  \n",
    "\n",
    "c.temperature = -10   \n",
    "print(c.temperature)  \n",
    "\n",
    "try:\n",
    "    c.temperature = -300  \n",
    "except ValueError as e:\n",
    "    print(e)  \n"
   ]
  },
  {
   "cell_type": "markdown",
   "metadata": {},
   "source": [
    "68. explain the role of setter methods in Python. Demonstrate how to use a setter method to modify a class attribute using property decorators."
   ]
  },
  {
   "cell_type": "markdown",
   "metadata": {},
   "source": [
    "# Answer\n",
    "\n",
    "Role of Setter Methods in Python:--\n",
    "\n",
    "A setter method in Python is used to set or modify the value of a private or protected attribute within a class. Setters provide a way to control how an attribute's value is updated, allowing you to include validation, type checking, or other logic before actually changing the value. They are essential in enforcing constraints and maintaining data integrity within an object.\n",
    "\n",
    "Setter Methods with Property Decorators:-----\n",
    "\n",
    "In Python, the @property decorator can be paired with a setter method to control how an attribute is modified. The setter method is defined using the same name as the getter but is decorated with @<property_name>.setter."
   ]
  },
  {
   "cell_type": "code",
   "execution_count": null,
   "metadata": {},
   "outputs": [],
   "source": [
    "class Person:\n",
    "    def __init__(self, name, age):\n",
    "        self._name = name\n",
    "        self._age = age\n",
    "\n",
    "    @property\n",
    "    def age(self):\n",
    "        \n",
    "        return self._age\n",
    "\n",
    "    @age.setter\n",
    "    def age(self, value):\n",
    "        \n",
    "        if value < 0:\n",
    "            raise ValueError(\"Age cannot be negative.\")\n",
    "        self._age = value\n",
    "\n",
    "    @property\n",
    "    def name(self):\n",
    "        \n",
    "        return self._name\n",
    "\n",
    "    @name.setter\n",
    "    def name(self, value):\n",
    "        if not isinstance(value, str):\n",
    "            raise ValueError(\"Name must be a string.\")\n",
    "        self._name = value\n",
    "\n",
    "\n",
    "p = Person(\"Alice\", 30)\n",
    "\n",
    "\n",
    "print(p.name)  \n",
    "print(p.age)   \n",
    "\n",
    "p.age = 35\n",
    "print(p.age)   \n",
    "\n",
    "try:\n",
    "    p.age = -5  \n",
    "except ValueError as e:\n",
    "    print(e)  \n",
    "\n",
    "try:\n",
    "    p.name = 123  \n",
    "except ValueError as e:\n",
    "    print(e) \n"
   ]
  },
  {
   "cell_type": "markdown",
   "metadata": {},
   "source": [
    "69.  What is the purpose of the @property decorator in Python? Provide an example illustrating its usage."
   ]
  },
  {
   "cell_type": "markdown",
   "metadata": {},
   "source": [
    "# Answer\n",
    "\n",
    "Purpose of the @property Decorator in Python:---\n",
    "\n",
    "The @property decorator in Python is used to define methods in a class that behave like attributes. It allows you to control how a class attribute is accessed, modified, and deleted, all while maintaining a simple and intuitive interface for users of the class. With @property, you can make a method act as a getter for an attribute, and you can also define corresponding setter and deleter methods to control how the attribute is updated or deleted."
   ]
  },
  {
   "cell_type": "code",
   "execution_count": 102,
   "metadata": {},
   "outputs": [
    {
     "name": "stdout",
     "output_type": "stream",
     "text": [
      "5\n",
      "10\n",
      "98\n",
      "Width must be positive.\n"
     ]
    }
   ],
   "source": [
    "class Rectangle:\n",
    "    def __init__(self, width, height):\n",
    "        self._width = width\n",
    "        self._height = height\n",
    "\n",
    "    @property\n",
    "    def width(self):\n",
    "        return self._width\n",
    "\n",
    "    @width.setter\n",
    "    def width(self, value):\n",
    "        if value <= 0:\n",
    "            raise ValueError(\"Width must be positive.\")\n",
    "        self._width = value\n",
    "\n",
    "    @property\n",
    "    def height(self):\n",
    "        return self._height\n",
    "\n",
    "    @height.setter\n",
    "    def height(self, value):\n",
    "        if value <= 0:\n",
    "            raise ValueError(\"Height must be positive.\")\n",
    "        self._height = value\n",
    "\n",
    "    @property\n",
    "    def area(self):\n",
    "        return self._width * self._height\n",
    "\n",
    "\n",
    "rect = Rectangle(5, 10)\n",
    "\n",
    "\n",
    "print(rect.width)  \n",
    "print(rect.height) \n",
    "\n",
    "\n",
    "rect.width = 7\n",
    "rect.height = 14\n",
    "\n",
    "\n",
    "print(rect.area)  \n",
    " \n",
    " \n",
    "try:\n",
    "    rect.width = -3\n",
    "except ValueError as e:\n",
    "    print(e)  \n"
   ]
  },
  {
   "cell_type": "markdown",
   "metadata": {},
   "source": [
    "70. Explain the use of the @deleter decorator in Python property decorators. Provide a code example demonstrating its application."
   ]
  },
  {
   "cell_type": "markdown",
   "metadata": {},
   "source": [
    "# Answer\n",
    "\n",
    "Use of the @deleter Decorator in Python Property Decorators:---- \n",
    "\n",
    "The @deleter decorator in Python is used in conjunction with the @property decorator to define a method that is called when an attribute is deleted using the del statement. This allows you to control what happens when an attribute is deleted, such as cleaning up resources, logging the deletion, or preventing the deletion if it's not allowed.\n",
    "\n",
    "How it Works:-- \n",
    "\n",
    "Getter (@property):-- Retrieves the value of the attribute.\n",
    "Setter (@<property_name>.setter):-- Modifies the value of the attribute.\n",
    "Deleter (@<property_name>.deleter):-- Defines what happens when the attribute is deleted."
   ]
  },
  {
   "cell_type": "code",
   "execution_count": 105,
   "metadata": {},
   "outputs": [
    {
     "name": "stdout",
     "output_type": "stream",
     "text": [
      "Alice\n",
      "30\n",
      "Deleting name...\n",
      "Deleting age...\n",
      "'Person' object has no attribute '_name'\n",
      "'Person' object has no attribute '_age'\n"
     ]
    }
   ],
   "source": [
    "class Person:\n",
    "    def __init__(self, name, age):\n",
    "        self._name = name\n",
    "        self._age = age\n",
    "\n",
    "    @property\n",
    "    def age(self):\n",
    "        return self._age\n",
    "\n",
    "    @age.setter\n",
    "    def age(self, value):\n",
    "        if value < 0:\n",
    "            raise ValueError(\"Age cannot be negative.\")\n",
    "        self._age = value\n",
    "\n",
    "    @age.deleter\n",
    "    def age(self):\n",
    "        print(\"Deleting age...\")\n",
    "        del self._age\n",
    "\n",
    "    @property\n",
    "    def name(self):\n",
    "        return self._name\n",
    "\n",
    "    @name.setter\n",
    "    def name(self, value):\n",
    "        self._name = value\n",
    "\n",
    "    @name.deleter\n",
    "    def name(self):\n",
    "        print(\"Deleting name...\")\n",
    "        del self._name\n",
    "\n",
    "\n",
    "p = Person(\"Alice\", 30)\n",
    "\n",
    "\n",
    "print(p.name)  \n",
    "print(p.age)   \n",
    " \n",
    " \n",
    "p.name = \"Bob\"\n",
    "p.age = 40\n",
    "  \n",
    "  \n",
    "del p.name  \n",
    "del p.age   \n",
    "\n",
    "\n",
    "try:\n",
    "    print(p.name)\n",
    "except AttributeError as e:\n",
    "    print(e) \n",
    "\n",
    "try:\n",
    "    print(p.age)\n",
    "except AttributeError as e:\n",
    "    print(e)  \n"
   ]
  },
  {
   "cell_type": "markdown",
   "metadata": {},
   "source": [
    "71. How does encapsulation relate to property decorators in Python? Provide an example showcasing encapsulation using property decorators."
   ]
  },
  {
   "cell_type": "markdown",
   "metadata": {},
   "source": [
    "# Answer\n",
    "\n",
    "Encapsulation and Property Decorators in Python:---\n",
    "\n",
    "Encapsulation is a core concept in object-oriented programming (OOP) that refers to the bundling of data (attributes) and methods (functions) that operate on the data into a single unit, typically a class. Encapsulation also involves restricting direct access to some of an object's components, which is usually done by making attributes private or protected. This allows you to control how the data is accessed or modified, thus enforcing certain rules or constraints"
   ]
  },
  {
   "cell_type": "code",
   "execution_count": 106,
   "metadata": {},
   "outputs": [
    {
     "name": "stdout",
     "output_type": "stream",
     "text": [
      "John Doe\n",
      "1000\n",
      "1500\n",
      "Balance cannot be negative.\n",
      "Jane Doe\n"
     ]
    }
   ],
   "source": [
    "class BankAccount:\n",
    "    def __init__(self, account_holder, initial_balance=0):\n",
    "        self._account_holder = account_holder\n",
    "        self._balance = initial_balance\n",
    "\n",
    "    @property\n",
    "    def balance(self):\n",
    "        \n",
    "        return self._balance\n",
    "\n",
    "    @balance.setter\n",
    "    def balance(self, amount):\n",
    "        \n",
    "        if amount < 0:\n",
    "            raise ValueError(\"Balance cannot be negative.\")\n",
    "        self._balance = amount\n",
    "\n",
    "    @property\n",
    "    def account_holder(self):\n",
    "        \n",
    "        return self._account_holder\n",
    "\n",
    "    @account_holder.setter\n",
    "    def account_holder(self, name):\n",
    "\n",
    "        if not isinstance(name, str):\n",
    "            raise ValueError(\"Account holder name must be a string.\")\n",
    "        self._account_holder = name\n",
    "\n",
    "\n",
    "account = BankAccount(\"John Doe\", 1000)\n",
    "\n",
    "\n",
    "print(account.account_holder)  \n",
    "print(account.balance)         \n",
    "\n",
    "\n",
    "account.balance = 1500\n",
    "print(account.balance)         \n",
    "\n",
    "\n",
    "try:\n",
    "    account.balance = -500\n",
    "except ValueError as e:\n",
    "    print(e)  \n",
    "\n",
    "\n",
    "account.account_holder = \"Jane Doe\"\n",
    "print(account.account_holder)  \n"
   ]
  },
  {
   "cell_type": "code",
   "execution_count": null,
   "metadata": {},
   "outputs": [],
   "source": []
  }
 ],
 "metadata": {
  "kernelspec": {
   "display_name": "Python 3",
   "language": "python",
   "name": "python3"
  },
  "language_info": {
   "codemirror_mode": {
    "name": "ipython",
    "version": 3
   },
   "file_extension": ".py",
   "mimetype": "text/x-python",
   "name": "python",
   "nbconvert_exporter": "python",
   "pygments_lexer": "ipython3",
   "version": "3.12.5"
  }
 },
 "nbformat": 4,
 "nbformat_minor": 2
}
